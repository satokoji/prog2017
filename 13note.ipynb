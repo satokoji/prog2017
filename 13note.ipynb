{
 "cells": [
  {
   "cell_type": "code",
   "execution_count": 1,
   "metadata": {
    "collapsed": false
   },
   "outputs": [
    {
     "data": {
      "text/plain": [
       "2"
      ]
     },
     "execution_count": 1,
     "metadata": {},
     "output_type": "execute_result"
    }
   ],
   "source": [
    "1+1"
   ]
  },
  {
   "cell_type": "code",
   "execution_count": null,
   "metadata": {
    "collapsed": true
   },
   "outputs": [],
   "source": [
    "(C:\\Anaconda3) C:\\Users\\佐藤孝二>python\n",
    "Python 3.6.0 |Anaconda 4.3.1 (64-bit)| (default, Dec 23 2016, 11:57:41) [MSC v.1900 64 bit (AMD64)] on win32\n",
    "Type \"help\", \"copyright\", \"credits\" or \"license\" for more information.\n",
    ">>> import turtle\n",
    ">>> t = turtle.Turtle()\n",
    ">>> t.home()\n",
    ">>> t.clear()\n",
    ">>>\n",
    ">>> for i in range(4):\n",
    "...   t.forward(100)\n",
    "...   t.left(90)\n",
    "...\n",
    "... t.home()\n",
    "  File \"<stdin>\", line 5\n",
    "    t.home()\n",
    "    ^\n",
    "SyntaxError: invalid syntax\n",
    ">>> t.left(90)\n",
    ">>> t.forward(110)\n",
    ">>>\n",
    ">>>\n",
    ">>> for i in range(8):\n",
    "...   t.forward(100)\n",
    "...   t.forward(-100)\n",
    "...   t.left(-90)\n",
    "...   t.forward(10)\n",
    "...   t.left(90)\n",
    "...\n",
    "...\n",
    ">>>\n",
    ">>> def circle(x, y, r = 150):\n",
    "...   t.up()\n",
    "...   t.home()\n",
    "...   t.forward(x)\n",
    "...   t.left(90)\n",
    "...   t.forward(y)\n",
    "...   t.forward(r)\n",
    "...   t.left(90)\n",
    "...   t.down()\n",
    "...   t.circle(r)\n",
    "...\n",
    ">>> t.home()\n",
    ">>> t.clear()\n",
    ">>>\n",
    ">>> circle(100, -100)\n",
    ">>> circle(100, 100, 50)\n",
    ">>> circle(-100, -100, 50)\n",
    ">>> circle(-100, 100, 50)\n",
    ">>>\n",
    ">>> def circle(x, y, a):\n",
    "...   t.up()\n",
    "...   t.home()\n",
    "...   t.forward(x)\n",
    "...   t.left(90)\n",
    "...   t.forward(y)\n",
    "...   for i in range(4):\n",
    "...   t.forward(a)\n",
    "  File \"<stdin>\", line 8\n",
    "    t.forward(a)\n",
    "    ^\n",
    "IndentationError: expected an indented block\n",
    ">>>   t.left(-90)\n",
    "  File \"<stdin>\", line 1\n",
    "    t.left(-90)\n",
    "    ^\n",
    "IndentationError: unexpected indent\n",
    ">>> def circle(x, y, a):\n",
    "...   t.up()\n",
    "...   t.home()\n",
    "...   t.forward(x)\n",
    "...   t.left(90)\n",
    "...   t.forward(y)\n",
    "...   t.down()\n",
    "...   for i in range(4):\n",
    "...   t.forward(a)\n",
    "  File \"<stdin>\", line 9\n",
    "    t.forward(a)\n",
    "    ^\n",
    "IndentationError: expected an indented block\n",
    ">>>   t.left(-90)\n",
    "  File \"<stdin>\", line 1\n",
    "    t.left(-90)\n",
    "    ^\n",
    "IndentationError: "
   ]
  }
 ],
 "metadata": {
  "kernelspec": {
   "display_name": "Python 3",
   "language": "python",
   "name": "python3"
  },
  "language_info": {
   "codemirror_mode": {
    "name": "ipython",
    "version": 3
   },
   "file_extension": ".py",
   "mimetype": "text/x-python",
   "name": "python",
   "nbconvert_exporter": "python",
   "pygments_lexer": "ipython3",
   "version": "3.6.0"
  }
 },
 "nbformat": 4,
 "nbformat_minor": 2
}
